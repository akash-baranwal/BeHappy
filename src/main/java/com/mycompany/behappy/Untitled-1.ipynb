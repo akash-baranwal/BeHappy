{
 "metadata": {
  "language_info": {
   "codemirror_mode": {
    "name": "ipython",
    "version": 3
   },
   "file_extension": ".py",
   "mimetype": "text/x-python",
   "name": "python",
   "nbconvert_exporter": "python",
   "pygments_lexer": "ipython3",
   "version": "3.7.5-final"
  },
  "orig_nbformat": 2,
  "kernelspec": {
   "name": "env",
   "display_name": "'dis_name'",
   "language": "python"
  }
 },
 "nbformat": 4,
 "nbformat_minor": 2,
 "cells": [
  {
   "cell_type": "code",
   "execution_count": 2,
   "metadata": {},
   "outputs": [],
   "source": [
    "import pandas as pd"
   ]
  },
  {
   "cell_type": "code",
   "execution_count": 3,
   "metadata": {},
   "outputs": [],
   "source": [
    "df=pd.read_csv(\"TherapistDataset.csv\")"
   ]
  },
  {
   "cell_type": "code",
   "execution_count": 6,
   "metadata": {},
   "outputs": [],
   "source": [
    "pd.set_option(\"display.max_rows\",None)"
   ]
  },
  {
   "cell_type": "code",
   "execution_count": 10,
   "metadata": {},
   "outputs": [
    {
     "output_type": "execute_result",
     "data": {
      "text/plain": [
       "   id       City  Id                                               Name  Fees  \\\n",
       "0   0  Hyderabad   0  Cimhans - Cognizance Institute Of Mental Healt...   800   \n",
       "1   1  Hyderabad   1                              Dr. Col R Shashikumar  1250   \n",
       "2   2  Hyderabad   2  Cimhans-Cognizance Institute Of Mental Health ...   100   \n",
       "3   3  Hyderabad   3                         New Life Counseling Center  1000   \n",
       "4   4  Hyderabad   4                                   Chetana Hospital   900   \n",
       "\n",
       "   Experience     Contact                             Website  \\\n",
       "0           0 -9152660538             http://www.cimhans.com/   \n",
       "1          24 -9152150099  http://www.psychiatryawareness.in/   \n",
       "2           0 -9152969650              http://www.cimhans.in/   \n",
       "3           0 -9152244868         http://www.isthydindia.com/   \n",
       "4           0 -9152199734     http://www.chetanahospital.com/   \n",
       "\n",
       "                                            AvailDay  \\\n",
       "0  Monday Tuesday Wednesday Thursday Friday Satur...   \n",
       "1  Monday Tuesday Wednesday Thursday Friday Satur...   \n",
       "2  Monday Tuesday Wednesday Thursday Friday Satur...   \n",
       "3  Monday Tuesday Wednesday Thursday Friday Satur...   \n",
       "4  Monday Tuesday Wednesday Thursday Friday Satur...   \n",
       "\n",
       "                                             Address  \n",
       "0  Plot No 20, INR Complex, High Tension Line Roa...  \n",
       "1  House No 42, Chikoti Gardens Lane, Begumpet, H...  \n",
       "2  H No 256 Kiran Nilayam, Aparnahills Roadd, PJR...  \n",
       "3  Road No 25, Mp & Mla Colony, Jubilee Hills, Hy...  \n",
       "4  Minister Road, Secunderabad, Hyderabad - 50000...  "
      ],
      "text/html": "<div>\n<style scoped>\n    .dataframe tbody tr th:only-of-type {\n        vertical-align: middle;\n    }\n\n    .dataframe tbody tr th {\n        vertical-align: top;\n    }\n\n    .dataframe thead th {\n        text-align: right;\n    }\n</style>\n<table border=\"1\" class=\"dataframe\">\n  <thead>\n    <tr style=\"text-align: right;\">\n      <th></th>\n      <th>id</th>\n      <th>City</th>\n      <th>Id</th>\n      <th>Name</th>\n      <th>Fees</th>\n      <th>Experience</th>\n      <th>Contact</th>\n      <th>Website</th>\n      <th>AvailDay</th>\n      <th>Address</th>\n    </tr>\n  </thead>\n  <tbody>\n    <tr>\n      <th>0</th>\n      <td>0</td>\n      <td>Hyderabad</td>\n      <td>0</td>\n      <td>Cimhans - Cognizance Institute Of Mental Healt...</td>\n      <td>800</td>\n      <td>0</td>\n      <td>-9152660538</td>\n      <td>http://www.cimhans.com/</td>\n      <td>Monday Tuesday Wednesday Thursday Friday Satur...</td>\n      <td>Plot No 20, INR Complex, High Tension Line Roa...</td>\n    </tr>\n    <tr>\n      <th>1</th>\n      <td>1</td>\n      <td>Hyderabad</td>\n      <td>1</td>\n      <td>Dr. Col R Shashikumar</td>\n      <td>1250</td>\n      <td>24</td>\n      <td>-9152150099</td>\n      <td>http://www.psychiatryawareness.in/</td>\n      <td>Monday Tuesday Wednesday Thursday Friday Satur...</td>\n      <td>House No 42, Chikoti Gardens Lane, Begumpet, H...</td>\n    </tr>\n    <tr>\n      <th>2</th>\n      <td>2</td>\n      <td>Hyderabad</td>\n      <td>2</td>\n      <td>Cimhans-Cognizance Institute Of Mental Health ...</td>\n      <td>100</td>\n      <td>0</td>\n      <td>-9152969650</td>\n      <td>http://www.cimhans.in/</td>\n      <td>Monday Tuesday Wednesday Thursday Friday Satur...</td>\n      <td>H No 256 Kiran Nilayam, Aparnahills Roadd, PJR...</td>\n    </tr>\n    <tr>\n      <th>3</th>\n      <td>3</td>\n      <td>Hyderabad</td>\n      <td>3</td>\n      <td>New Life Counseling Center</td>\n      <td>1000</td>\n      <td>0</td>\n      <td>-9152244868</td>\n      <td>http://www.isthydindia.com/</td>\n      <td>Monday Tuesday Wednesday Thursday Friday Satur...</td>\n      <td>Road No 25, Mp &amp; Mla Colony, Jubilee Hills, Hy...</td>\n    </tr>\n    <tr>\n      <th>4</th>\n      <td>4</td>\n      <td>Hyderabad</td>\n      <td>4</td>\n      <td>Chetana Hospital</td>\n      <td>900</td>\n      <td>0</td>\n      <td>-9152199734</td>\n      <td>http://www.chetanahospital.com/</td>\n      <td>Monday Tuesday Wednesday Thursday Friday Satur...</td>\n      <td>Minister Road, Secunderabad, Hyderabad - 50000...</td>\n    </tr>\n  </tbody>\n</table>\n</div>"
     },
     "metadata": {},
     "execution_count": 10
    }
   ],
   "source": [
    "df.head()"
   ]
  },
  {
   "cell_type": "code",
   "execution_count": 11,
   "metadata": {},
   "outputs": [],
   "source": [
    "df['Contact']=df['Contact'].apply(lambda x:x*-1)"
   ]
  },
  {
   "cell_type": "code",
   "execution_count": 12,
   "metadata": {},
   "outputs": [
    {
     "output_type": "execute_result",
     "data": {
      "text/plain": [
       "0      9152660538\n",
       "1      9152150099\n",
       "2      9152969650\n",
       "3      9152244868\n",
       "4      9152199734\n",
       "5      9152179083\n",
       "6      9152331921\n",
       "7        40023949\n",
       "8      7287012132\n",
       "9      9866213032\n",
       "10     9152189673\n",
       "11     9152378441\n",
       "12     9152187849\n",
       "13     9989585095\n",
       "14     9866921997\n",
       "15       23488949\n",
       "16     8107911820\n",
       "17     9152783698\n",
       "18       27761061\n",
       "19       49336648\n",
       "20       23700480\n",
       "21     9052709909\n",
       "22       24340193\n",
       "23       33855504\n",
       "24     9701003242\n",
       "25     9152837284\n",
       "26     9830277516\n",
       "27     9152760927\n",
       "28     9152106650\n",
       "29     9152224618\n",
       "30     9830275768\n",
       "31     9152300303\n",
       "32     9152123438\n",
       "33     9940217372\n",
       "34     9152553658\n",
       "35     9152380992\n",
       "36     9152176273\n",
       "37     9152176273\n",
       "38       28224013\n",
       "39       47450952\n",
       "40     9152962757\n",
       "41     9152191826\n",
       "42       22641175\n",
       "43       26511066\n",
       "44     9152321120\n",
       "45       28158624\n",
       "46     8107911820\n",
       "47     9152783698\n",
       "48     9152376736\n",
       "49     9152784337\n",
       "50     9820708228\n",
       "51     9152234677\n",
       "52     9152701671\n",
       "53     9152271296\n",
       "54     9152959520\n",
       "55     9152959520\n",
       "56     9152287706\n",
       "57     9152191934\n",
       "58     9820199412\n",
       "59       28651461\n",
       "60     9152235504\n",
       "61     9152676734\n",
       "62     9152467546\n",
       "63     9152761463\n",
       "64       26287719\n",
       "65     8928806116\n",
       "66     9967342955\n",
       "67     9152750697\n",
       "68     9152350833\n",
       "69     9945208436\n",
       "70     9152365138\n",
       "71     9152381922\n",
       "72     9152388271\n",
       "73     9152111166\n",
       "74     9152827193\n",
       "75     8107911820\n",
       "76       23608877\n",
       "77     9152423581\n",
       "78     9152322555\n",
       "79       41556144\n",
       "80       26601707\n",
       "81     9152783698\n",
       "82     9620552582\n",
       "83       46645544\n",
       "84       25214603\n",
       "85       22277968\n",
       "86       26995389\n",
       "87       23358100\n",
       "88       28393381\n",
       "89     9741897033\n",
       "90     9152289880\n",
       "91     9152276746\n",
       "92     9152928757\n",
       "93     9152109837\n",
       "94     9152308452\n",
       "95     9152104240\n",
       "96     9152631617\n",
       "97       24443769\n",
       "98     9152342533\n",
       "99     9152447468\n",
       "100    9152423685\n",
       "101    9152423194\n",
       "102    9152461026\n",
       "103    9765585461\n",
       "104    9822842822\n",
       "105      26128274\n",
       "106    9152240715\n",
       "107    9152952475\n",
       "108    8359064075\n",
       "109    9152407334\n",
       "110      24578828\n",
       "111    7004642879\n",
       "112    9152790580\n",
       "113    9939009614\n",
       "114    9152527341\n",
       "115    9031930406\n",
       "116    9152783698\n",
       "117    8107911820\n",
       "118    9386816584\n",
       "119    9113314869\n",
       "120       2451109\n",
       "121    7992436030\n",
       "122    9152696060\n",
       "123    9152451593\n",
       "124    9152266076\n",
       "125    9152951070\n",
       "126    9152164288\n",
       "127    9152272299\n",
       "128      79621319\n",
       "129    9152449049\n",
       "130    9152480755\n",
       "131    9891055167\n",
       "132    9152295517\n",
       "133    9152480755\n",
       "134      49878216\n",
       "135    9152225731\n",
       "136    9152467663\n",
       "137    9152225731\n",
       "138    9152132166\n",
       "Name: Contact, dtype: int64"
      ]
     },
     "metadata": {},
     "execution_count": 12
    }
   ],
   "source": [
    "df[\"Contact\"]"
   ]
  },
  {
   "cell_type": "code",
   "execution_count": null,
   "metadata": {},
   "outputs": [],
   "source": []
  }
 ]
}